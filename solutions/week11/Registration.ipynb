{
 "cells": [
  {
   "cell_type": "code",
   "execution_count": null,
   "id": "ec53c1db",
   "metadata": {
    "deletable": false,
    "editable": false
   },
   "outputs": [],
   "source": [
    "# Initialize Otter\n",
    "import otter\n",
    "grader = otter.Notebook(\"Registration.ipynb\")"
   ]
  },
  {
   "cell_type": "markdown",
   "id": "85ab8074-019d-4f7e-8431-9681a8fbfee1",
   "metadata": {},
   "source": [
    "# Matrix Analysis 2024 - EE312\n",
    "## Week 11 - Rigid registration and SVD\n",
    "[LTS2](https://lts2.epfl.ch)\n",
    "\n",
    "\n",
    "In this session you will study how to solve a rigid registration problem (in the least square sense) using the SVD."
   ]
  },
  {
   "cell_type": "markdown",
   "id": "3d5f56b8-a8e8-469d-a583-eaa21a8f2775",
   "metadata": {},
   "source": [
    "Let us consider two sets of points from $\\mathbb{R}^d$, $\\mathcal{P}=\\{\\mathbf{p}_k\\}$ and $\\mathcal{Q}=\\{\\mathbf{q}_k\\}$, $k=1,...,n$. Each point $\\mathbf{p}_k$ matches a point $\\mathbf{q}_k$ through a linear transformation, i.e. $\\mathbf{q}_k = \\mathcal{T}(\\mathbf{p}_k)$. In this exercise, we will consider the transformations that are a combination of a translation $\\mathbf{t}$ (represented by a vector in $\\mathbb{R}^d$) and a rotation $R$ (represented by an orthogonal $d\\times d$ matrix).\n",
    "\n",
    "Rigid registration consists in finding the optimal (in the least-squares sense) $R$ and $t$ such that\n",
    "$$\n",
    "(R,\\mathbf{t}) = \\underset{t\\in\\mathbb{R}^d,R\\in SO(d)}{\\operatorname{argmin}}\\sum_{k=1}^n \\| (R\\mathbf{p}_k+\\mathbf{t}) - \\mathbf{q}_k \\|^2\n",
    "$$\n",
    "\n",
    "## 1. Finding the rotation matrix $R$\n",
    "Let us first consider the (simpler) case where the translation component of the transformation is null, and we only have a rotation $R$ to find, i.e.\n",
    "\n",
    "$$\n",
    "R = \\underset{R\\in SO(d)}{\\operatorname{argmin}}\\sum_{k=1}^n \\| R\\mathbf{p}_k - \\mathbf{q}_k \\|^2\n",
    "$$"
   ]
  },
  {
   "cell_type": "markdown",
   "id": "3adb59a5-ddbe-494a-b681-e52841c1df5a",
   "metadata": {
    "deletable": false,
    "editable": false
   },
   "source": [
    "<!-- BEGIN QUESTION -->\n",
    "\n",
    "1.1 Show that finding $R$ is equivalent to maximize the quantity $\\sum_{k=1}^n \\mathbf{q}_k^T R \\mathbf{p}_k$."
   ]
  },
  {
   "cell_type": "markdown",
   "id": "7cc9d572",
   "metadata": {},
   "source": [
    "_Type your answer here, replacing this text._"
   ]
  },
  {
   "cell_type": "markdown",
   "id": "94435842-0bc3-4d0f-af85-f2e4f9b79504",
   "metadata": {
    "tags": [
     "otter_assign_solution_cell"
    ]
   },
   "source": [
    "We have \n",
    "$$\n",
    "\\| R\\mathbf{p}_k - \\mathbf{q}_k \\|^2 = (R\\mathbf{p}_k - \\mathbf{q}_k)^T(R\\mathbf{p}_k - \\mathbf{q}_k) \\\\\n",
    "= (\\mathbf{p}_k^TR^T - \\mathbf{q}_k^T)(R\\mathbf{p}_k - \\mathbf{q}_k) \\\\\n",
    "= \\mathbf{p}_k^TR^TR\\mathbf{p}_k -\\mathbf{q}_k^TR\\mathbf{p}_k - \\mathbf{p}_k^TR^T\\mathbf{q}_k - \\mathbf{q}_k^T\\mathbf{q}_k\n",
    "$$\n",
    "\n",
    "We have $\\mathbf{q}_k^TR\\mathbf{p}_k = (\\mathbf{p}_k^TR^T\\mathbf{q}_k)^T$. However, this quantity being a scalar, it is equal to its tranpose.\n",
    "\n",
    "Since $R$ is orthogonal, $R^TR=I$, hence\n",
    "$$\n",
    "\\| R\\mathbf{p}_k - \\mathbf{q}_k \\|^2 = \\mathbf{p}_k^T\\mathbf{p}_k - 2\\mathbf{q}_k^TR\\mathbf{p}_k - \\mathbf{q}_k^T\\mathbf{q}_k\n",
    "$$\n",
    "\n",
    "Therefore\n",
    "$$\n",
    "\\underset{R\\in SO(d)}{\\operatorname{argmin}}\\sum_{k=1}^n \\| R\\mathbf{p}_k - \\mathbf{q}_k \\|^2 = \\underset{R\\in SO(d)}{\\operatorname{argmin}}\\sum_{k=1}^n \\mathbf{p}_k^T\\mathbf{p}_k - 2\\mathbf{q}_k^TR\\mathbf{p}_k - \\mathbf{q}_k^T\\mathbf{q}_k\n",
    "$$\n",
    "\n",
    "The quantities $\\mathbf{p}_k^T\\mathbf{p}_k$ and $\\mathbf{q}_k^T\\mathbf{q}_k$ do not depend on $R$, hence\n",
    "$$\n",
    "\\underset{R\\in SO(d)}{\\operatorname{argmin}}\\sum_{k=1}^n \\| R\\mathbf{p}_k - \\mathbf{q}_k \\|^2 = \\underset{R\\in SO(d)}{\\operatorname{argmin}}\\sum_{k=1}^n  - 2\\mathbf{q}_k^TR\\mathbf{p}_k \\\\\n",
    "= \\underset{R\\in SO(d)}{\\operatorname{argmax}}\\sum_{k=1}^n  \\mathbf{q}_k^TR\\mathbf{p}_k\n",
    "$$\n"
   ]
  },
  {
   "cell_type": "markdown",
   "id": "942fffd8-f25a-4090-987f-fd6e3b1e8d05",
   "metadata": {
    "deletable": false,
    "editable": false
   },
   "source": [
    "<!-- END QUESTION -->\n",
    "\n",
    "Let us define the $d\\times n$ matrices $P$ and $Q$ made from the column vectors $\\mathbf{p}_k$ and $\\mathbf{q}_k$, i.e.:\n",
    "$$\n",
    "P = \\begin{pmatrix}\\mathbf{p}_1  & \\mathbf{p}_2 & ... & \\mathbf{p}_n\\end{pmatrix}, Q = \\begin{pmatrix}\\mathbf{q}_1  & \\mathbf{q}_2 & ... & \\mathbf{q}_n\\end{pmatrix},\n",
    "$$"
   ]
  },
  {
   "cell_type": "markdown",
   "id": "1df77e36-6562-42f1-bea5-56372ab47dbc",
   "metadata": {
    "deletable": false,
    "editable": false
   },
   "source": [
    "<!-- BEGIN QUESTION -->\n",
    "\n",
    "1.2 Prove that $\\sum_{k=1}^n \\mathbf{q}_k^T R \\mathbf{p}_k = \\mathrm{tr}(Q^TRP)$"
   ]
  },
  {
   "cell_type": "markdown",
   "id": "7ef6478a",
   "metadata": {},
   "source": [
    "_Type your answer here, replacing this text._"
   ]
  },
  {
   "cell_type": "markdown",
   "id": "6d6f4f88-9146-4a77-9fb6-74a948d77a3b",
   "metadata": {
    "tags": [
     "otter_assign_solution_cell"
    ]
   },
   "source": [
    "Following the definition of $P$, it is easy to see that \n",
    "$$\n",
    "RP = \\begin{pmatrix}R\\mathbf{p}_1 & R\\mathbf{p}_2 & ... & R\\mathbf{p}_n\\end{pmatrix},\n",
    "$$\n",
    "therefore\n",
    "$$\n",
    "Q^TRP = \\begin{pmatrix}\n",
    "\\mathbf{q}_1^TR\\mathbf{p}_1 & \\mathbf{q}_1^TR\\mathbf{p}_2 & ... & \\mathbf{q}_1^TR\\mathbf{p}_n \\\\\n",
    "\\mathbf{q}_2^TR\\mathbf{p}_1 & \\mathbf{q}_2^TR\\mathbf{p}_2 & ... & \\mathbf{q}_2^TR\\mathbf{p}_n\\\\\n",
    "\\vdots & \\ddots & & \\vdots \\\\\n",
    "\\mathbf{q}_n^TR\\mathbf{p}_1 &  \\mathbf{q}_n^TR\\mathbf{p}_2 & ... & \\mathbf{q}_n^TR\\mathbf{p}_n\n",
    "\\end{pmatrix}\n",
    "$$\n",
    "\n",
    "The diagonal terms of $Q^TRP$ are $\\mathbf{q}_k^TR\\mathbf{p}_k$, therefore $\\sum_{k=1}^n \\mathbf{q}_k^T R \\mathbf{p}_k = \\mathrm{tr}(Q^TRP)$."
   ]
  },
  {
   "cell_type": "markdown",
   "id": "2de7c882-61ff-4711-a469-3e7b5ca88ecf",
   "metadata": {
    "deletable": false,
    "editable": false
   },
   "source": [
    "<!-- END QUESTION -->\n",
    "\n",
    "<!-- BEGIN QUESTION -->\n",
    "\n",
    "1.3 Let us introduce the matrix $S=PQ^T$, its SVD decomposition $S=U\\Sigma V^T$ and $M=V^TRU$, show that $\\mathrm{tr}(Q^TRP)=\\mathrm{tr}(\\Sigma M)$.\n",
    "\n",
    "\n",
    "*Reminder*: for matrices of compatible size, the following equality holds: $\\mathrm{tr}(AB)=\\mathrm{tr}(BA)$."
   ]
  },
  {
   "cell_type": "markdown",
   "id": "3d2cf9aa",
   "metadata": {},
   "source": [
    "_Type your answer here, replacing this text._"
   ]
  },
  {
   "cell_type": "markdown",
   "id": "144c77a9-452e-4635-8d49-0e265891abd6",
   "metadata": {
    "tags": [
     "otter_assign_solution_cell"
    ]
   },
   "source": [
    "Using the property of the trace, we have \n",
    "$$\n",
    "\\mathrm{tr}(Q^TRP) = \\mathrm{tr}(PQ^TR) = \\mathrm{tr}(SR) = \\mathrm{tr}(U\\Sigma V^TR) = \\mathrm{tr}(\\Sigma V^TRU) = \\mathrm{tr}(\\Sigma M)\n",
    "$$\n"
   ]
  },
  {
   "cell_type": "markdown",
   "id": "0a8df4b6-e766-4f21-a572-499163803c21",
   "metadata": {
    "deletable": false,
    "editable": false
   },
   "source": [
    "<!-- END QUESTION -->\n",
    "\n",
    "<!-- BEGIN QUESTION -->\n",
    "\n",
    "1.4 Let us denote by $m_{ij}$ the coefficients of $M$. Show that $|m_{ij}|\\leq 1$. Finally show that $\\mathrm{tr}(\\Sigma M)$ is maximum for $M=I$ and compute the corresponding value of $R$\n",
    "\n",
    "(Hint: prove that $M$ is orthogonal first)."
   ]
  },
  {
   "cell_type": "markdown",
   "id": "f6b6c6a3",
   "metadata": {},
   "source": [
    "_Type your answer here, replacing this text._"
   ]
  },
  {
   "cell_type": "markdown",
   "id": "131fe07c-a320-4b8c-ba63-f8a04fdd9df4",
   "metadata": {
    "tags": [
     "otter_assign_solution_cell"
    ]
   },
   "source": [
    "$M=V^TRU$ is orthogonal since $V$, $U$ and $R$ are also orthogonal. We then have $MM^T=M^TM=I$.\n",
    "\n",
    "Let us write $M=\\begin{pmatrix}\\mathbf{m}_1 & \\mathbf{m}_2 & ... & \\mathbf{m}_n\\end{pmatrix}$. $M$ is orthogonal means\n",
    "its column vectors $\\mathbf{m}_k$ also are, therefore $\\mathbf{m}_i^T\\mathbf{m}_j = 0$ for $i\\neq j$ and 1 for $i=j$.\n",
    "\n",
    "Since we have $\\mathbf{m}_k^T\\mathbf{m}_k = \\| \\mathbf{m}_k \\|^2 = \\sum_{j=1}^n m_{jk}^2= 1, \\forall k$, this implies $| m_{jk}| \\leq 1, \\forall j,k$\n",
    "\n",
    "Since $\\Sigma$ is diagonal, $\\mathrm{tr}(\\Sigma M) = \\sum_{k=1}^n\\sigma_km_{kk}$. Since $\\sigma_k\\geq 0$, this quantity will be maximal when $m_{kk}=1$, i.e. when $M=I$. \n",
    "\n",
    "Using the orthogonality property, this finally yields $V^TRU=I$ and $R=VU^T$.\n"
   ]
  },
  {
   "cell_type": "markdown",
   "id": "2aec823c-1972-4558-81ef-4534297892a1",
   "metadata": {
    "deletable": false,
    "editable": false
   },
   "source": [
    "<!-- END QUESTION -->\n",
    "\n",
    "1.5 We can now verify that our method works using a numerical example, using $d=2$ to simplify visualization."
   ]
  },
  {
   "cell_type": "code",
   "execution_count": 1,
   "id": "d7b6c19f-ed4c-4a26-b0a5-00c33fe9df0f",
   "metadata": {
    "deletable": false,
    "editable": false
   },
   "outputs": [],
   "source": [
    "import numpy as np\n",
    "import matplotlib.pyplot as plt"
   ]
  },
  {
   "cell_type": "code",
   "execution_count": 2,
   "id": "e05c414f-feeb-41d2-bc77-c18c0c27f54a",
   "metadata": {
    "deletable": false,
    "editable": false
   },
   "outputs": [],
   "source": [
    "# Load data points from text file\n",
    "fish = np.loadtxt('./data/fish.txt')"
   ]
  },
  {
   "cell_type": "code",
   "execution_count": 5,
   "id": "74c0bd55-9954-4c62-b4e6-b3cd9f1829be",
   "metadata": {
    "deletable": false,
    "editable": false
   },
   "outputs": [
    {
     "data": {
      "text/plain": [
       "<matplotlib.collections.PathCollection at 0x13a251a20>"
      ]
     },
     "execution_count": 5,
     "metadata": {},
     "output_type": "execute_result"
    },
    {
     "data": {
      "image/png": "[encoded data removed]",
      "text/plain": [
       "<Figure size 640x480 with 1 Axes>"
      ]
     },
     "metadata": {},
     "output_type": "display_data"
    }
   ],
   "source": [
    "plt.scatter(fish[0, :], fish[1, :], marker='+')"
   ]
  },
  {
   "cell_type": "code",
   "execution_count": null,
   "id": "b36e67d5-8825-49cb-b780-6cedf0b32242",
   "metadata": {
    "deletable": false,
    "editable": false
   },
   "outputs": [],
   "source": [
    "# Generate a rotated version\n",
    "theta = -np.pi/6 # you can change this\n",
    "R = np.eye(2) # replace this with a rotation matrix depending on theta\n",
    "Y = R@fish  + 0.05*np.random.randn(fish.shape[1]) # transform + add noise"
   ]
  },
  {
   "cell_type": "code",
   "execution_count": null,
   "id": "7e136fae-5d5f-4ff0-bb50-93a125982136",
   "metadata": {
    "deletable": false,
    "editable": false
   },
   "outputs": [],
   "source": [
    "plt.scatter(fish[0, :], fish[1, :], marker='+')\n",
    "plt.scatter(Y[0, :], Y[1, :], marker='x')"
   ]
  },
  {
   "cell_type": "code",
   "execution_count": 8,
   "id": "22caf3d9-30d6-475e-ac9c-8d440d973507",
   "metadata": {
    "tags": [
     "otter_assign_solution_cell"
    ]
   },
   "outputs": [],
   "source": [
    "def compute_R(P, Q):\n",
    "    \"\"\"\n",
    "    Compute the rotation matrix that transforms P into Q\n",
    "\n",
    "    Parameters\n",
    "    ----------\n",
    "    P : input data matrix (2xN)\n",
    "    Q: transformed data matrix (2xN)\n",
    "    \n",
    "    Returns\n",
    "    -------\n",
    "    the estimated rotation matrix\n",
    "    \"\"\"\n",
    "    # BEGIN SOLUTION\n",
    "    S = P@Q.T\n",
    "    U, Si, Vt = np.linalg.svd(S)\n",
    "    return Vt.T@U.T\n",
    "    # END SOLUTION"
   ]
  },
  {
   "cell_type": "code",
   "execution_count": null,
   "id": "6ac9eddb-0322-44fa-aed8-20825b5054c3",
   "metadata": {
    "deletable": false,
    "editable": false
   },
   "outputs": [],
   "source": [
    "R_r = compute_R(fish, Y)\n",
    "yr = R@fish"
   ]
  },
  {
   "cell_type": "code",
   "execution_count": null,
   "id": "354f77cf-c69b-447d-97d2-983a9ae0899b",
   "metadata": {
    "deletable": false,
    "editable": false
   },
   "outputs": [],
   "source": [
    "plt.scatter(yr[0, :], yr[1, :], marker='+')\n",
    "plt.scatter(Y[0, :], Y[1, :], marker='x')"
   ]
  },
  {
   "cell_type": "code",
   "execution_count": null,
   "id": "fb15eec0",
   "metadata": {
    "deletable": false,
    "editable": false
   },
   "outputs": [],
   "source": [
    "grader.check(\"q1p5\")"
   ]
  },
  {
   "cell_type": "markdown",
   "id": "72050baf-3891-4c76-acbe-1f53a840609a",
   "metadata": {},
   "source": [
    "## 2. Finding the translation $\\mathbf{t}$\n"
   ]
  },
  {
   "cell_type": "markdown",
   "id": "df3d589e-4fcb-4ea2-a699-4398d6dd3a37",
   "metadata": {
    "deletable": false,
    "editable": false
   },
   "source": [
    "<!-- BEGIN QUESTION -->\n",
    "\n",
    "2.1 Let us consider the function \n",
    "$$\n",
    "F(\\mathbf{t}) = \\sum_{k=1}^n \\| (R\\mathbf{p}_k+\\mathbf{t}) - \\mathbf{q}_k \\|^2,\n",
    "$$ with $\\mathbf{t}\\in\\mathbb{R}^d$.\n",
    "\n",
    "Let us also introduce the following quantities $\\bar{\\mathbf{p}}=\\frac{1}{n}\\sum_{k=1}^n\\mathbf{p}_k$ and $\\bar{\\mathbf{q}}=\\frac{1}{n}\\sum_{k=1}^n\\mathbf{q}_k$.\n",
    "\n",
    "Solve\n",
    "$$\n",
    "\\frac{\\partial F(\\mathbf{t})}{\\partial \\mathbf{t}} = 0\n",
    "$$ \n",
    "and find the optimal value of $\\mathbf{t}$\n",
    "\n",
    "Hint: if $x\\in\\mathbb{R}^d$ is a vector, the following holds:\n",
    "$$\n",
    "\\frac{\\partial x^Tx}{\\partial x} = 2x^T\n",
    "$$"
   ]
  },
  {
   "cell_type": "markdown",
   "id": "3746fe90",
   "metadata": {},
   "source": [
    "_Type your answer here, replacing this text._"
   ]
  },
  {
   "cell_type": "markdown",
   "id": "667436bf-e0e3-4da6-b334-81d3263b447c",
   "metadata": {
    "tags": [
     "otter_assign_solution_cell"
    ]
   },
   "source": [
    "Given the definition of the norm, the derivative of $F(\\mathbf{t})$ is \n",
    "$$\n",
    "\\frac{\\partial F(\\mathbf{t})}{\\partial \\mathbf{t}} = 2\\sum_{k=1}^n  (R\\mathbf{p}_k+\\mathbf{t}) - \\mathbf{q}_k \\\\\n",
    "= \\sum_{k=1}^n  2R\\mathbf{p}_k + 2\\mathbf{t} - 2\\mathbf{q}_k\n",
    "$$\n",
    "Therefore we have $\\frac{\\partial F(\\mathbf{t})}{\\partial \\mathbf{t}}=0$ for $n\\mathbf{t} = \\sum_{k=1}^n  \\mathbf{q}_k -R\\mathbf{p}_k $, which leads to $\\mathbf{t} = \\bar{\\mathbf{q}} - R\\bar{\\mathbf{p}}$."
   ]
  },
  {
   "cell_type": "markdown",
   "id": "1bf385ea-fd7c-4833-a37f-813c9483652f",
   "metadata": {
    "deletable": false,
    "editable": false
   },
   "source": [
    "<!-- END QUESTION -->\n",
    "\n",
    "<!-- BEGIN QUESTION -->\n",
    "\n",
    "2.2 Let us define $\\mathbf{p}^\\prime_k = \\mathbf{p}_k - \\bar{\\mathbf{p}}$ and $\\mathbf{q}^\\prime_k = \\mathbf{q}_k - \\bar{\\mathbf{q}}$. Prove that \n",
    "$$\n",
    "F(\\mathbf{t}) = \\sum_{k=1}^n \\| R\\mathbf{p}^\\prime_k - \\mathbf{q}^\\prime_k \\|^2,\n",
    "$$"
   ]
  },
  {
   "cell_type": "markdown",
   "id": "e6ff1f34",
   "metadata": {},
   "source": [
    "_Type your answer here, replacing this text._"
   ]
  },
  {
   "cell_type": "markdown",
   "id": "e6b1f519-0e6a-4e97-b81b-f94f7aa01b00",
   "metadata": {
    "tags": [
     "otter_assign_solution_cell"
    ]
   },
   "source": [
    "Introducing the result of the previous question in $F$, this leads to \n",
    "$$\n",
    "R\\mathbf{p}_k+\\mathbf{t} - \\mathbf{q}_k  = R\\mathbf{p}_k+\\bar{\\mathbf{q}}-R\\bar{\\mathbf{p}}  - \\mathbf{q}_k \\\\\n",
    "R(\\mathbf{p}_k+\\bar{\\mathbf{p}}) \\bar{\\mathbf{q}}- \\mathbf{q}_k = R\\mathbf{p}^\\prime_k - \\mathbf{q}^\\prime_k\n",
    "$$"
   ]
  },
  {
   "cell_type": "markdown",
   "id": "aba4edf2-4104-4bce-a61e-aa1e1e11087a",
   "metadata": {
    "deletable": false,
    "editable": false
   },
   "source": [
    "<!-- END QUESTION -->\n",
    "\n",
    "2.3 Now we have found both $R$ and $\\mathbf{t}$, we can test on a numerical example"
   ]
  },
  {
   "cell_type": "code",
   "execution_count": null,
   "id": "a7f76f96-89db-495f-a68b-a4ea8e64f6bc",
   "metadata": {
    "deletable": false,
    "editable": false
   },
   "outputs": [],
   "source": [
    "# Generate a rotated + translated version\n",
    "t = np.array([-0.5, 1]).reshape(2,1) # change this if you wish\n",
    "Yt = R@fish  + t + 0.05*np.random.randn(fish.shape[1]) # transform + add noise"
   ]
  },
  {
   "cell_type": "code",
   "execution_count": null,
   "id": "8369178b-a451-463d-b725-c2c39091bec8",
   "metadata": {
    "deletable": false,
    "editable": false
   },
   "outputs": [],
   "source": [
    "plt.scatter(fish[0, :], fish[1, :], marker='+')\n",
    "plt.scatter(Yt[0, :], Yt[1, :], marker='x')"
   ]
  },
  {
   "cell_type": "code",
   "execution_count": 11,
   "id": "d6820e9b-b937-457c-b3d8-3ec74166d1a2",
   "metadata": {
    "tags": [
     "otter_assign_solution_cell"
    ]
   },
   "outputs": [],
   "source": [
    "def do_registration(P, Q):\n",
    "    \"\"\"\n",
    "    Performs the registration (translation + rotation) that transforms P into Q\n",
    "\n",
    "    Parameters\n",
    "    ----------\n",
    "    P : input data matrix (2xN)\n",
    "    Q: transformed data matrix (2xN)\n",
    "    \n",
    "    Returns\n",
    "    -------\n",
    "    the translated/rotated P that fits Q\n",
    "    \"\"\"\n",
    "    # BEGIN SOLUTION\n",
    "    pmean = np.mean(P, axis=1).reshape(2, 1)\n",
    "    qmean = np.mean(Q, axis=1).reshape(2, 1)\n",
    "    pp = P - pmean\n",
    "    qp = Q - qmean\n",
    "    \n",
    "    # compute rotation\n",
    "    R = compute_R(pp, qp)\n",
    "    \n",
    "    # compute translation\n",
    "    t = qmean - R@pmean\n",
    "    \n",
    "    return (R@P + t)  # return the estimated transformed version of P \n",
    "    # END SOLUTION"
   ]
  },
  {
   "cell_type": "code",
   "execution_count": null,
   "id": "14e4a796-a20e-4bbf-81c6-4184a7512de0",
   "metadata": {
    "deletable": false,
    "editable": false
   },
   "outputs": [],
   "source": [
    "Yr = do_registration(fish, Yt)"
   ]
  },
  {
   "cell_type": "code",
   "execution_count": null,
   "id": "7c5d12ed-4bd2-46e1-824f-80d7a44e2bf1",
   "metadata": {
    "deletable": false,
    "editable": false
   },
   "outputs": [],
   "source": [
    "plt.scatter(Yt[0, :], Yt[1, :], marker='+')\n",
    "plt.scatter(Yr[0, :], Yr[1, :], marker='x')"
   ]
  },
  {
   "cell_type": "code",
   "execution_count": null,
   "id": "22695a58",
   "metadata": {
    "deletable": false,
    "editable": false
   },
   "outputs": [],
   "source": [
    "grader.check(\"q2p3\")"
   ]
  }
 ],
 "metadata": {
  "kernelspec": {
   "display_name": "Python 3 (ipykernel)",
   "language": "python",
   "name": "python3"
  },
  "language_info": {
   "codemirror_mode": {
    "name": "ipython",
    "version": 3
   },
   "file_extension": ".py",
   "mimetype": "text/x-python",
   "name": "python",
   "nbconvert_exporter": "python",
   "pygments_lexer": "ipython3",
   "version": "3.10.13"
  },
  "otter": {
   "OK_FORMAT": true,
   "tests": {
    "q1p5": {
     "name": "q1p5",
     "points": null,
     "suites": [
      {
       "cases": [
        {
         "code": ">>> Q = np.array([fish[1, :], fish[0, :]])\n>>> P = fish\n>>> R_o = compute_R(P, Q)\n>>> np.testing.assert_array_almost_equal(R_o, [[0, 1], [1, 0]])\n",
         "failure_message": "Check your implementation",
         "hidden": false,
         "locked": false,
         "success_message": "Good, rotation estimation looks correct"
        }
       ],
       "scored": true,
       "setup": "",
       "teardown": "",
       "type": "doctest"
      }
     ]
    },
    "q2p3": {
     "name": "q2p3",
     "points": null,
     "suites": [
      {
       "cases": [
        {
         "code": ">>> t = np.array([0.5, -1]).reshape(2, 1)\n>>> R = np.array([[0, 1], [1, 0]])\n>>> Yt = R @ fish + t\n>>> P = fish\n>>> np.testing.assert_array_almost_equal(do_registration(P, Yt), Yt)\n",
         "failure_message": "Check your implementation",
         "hidden": false,
         "locked": false,
         "success_message": "Good, registration estimation looks correct"
        }
       ],
       "scored": true,
       "setup": "",
       "teardown": "",
       "type": "doctest"
      }
     ]
    }
   }
  }
 },
 "nbformat": 4,
 "nbformat_minor": 5
}
