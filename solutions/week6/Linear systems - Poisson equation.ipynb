{
 "cells": [
  {
   "cell_type": "code",
   "execution_count": null,
   "id": "9a555d19",
   "metadata": {
    "deletable": false,
    "editable": false
   },
   "outputs": [],
   "source": [
    "# Initialize Otter\n",
    "import otter\n",
    "grader = otter.Notebook(\"Linear systems - Poisson equation.ipynb\")"
   ]
  },
  {
   "cell_type": "markdown",
   "id": "d133bce9-d159-4b1d-a25f-69bed8da493a",
   "metadata": {},
   "source": [
    "# Matrix Analysis 2024 - EE312\n",
    "\n",
    "## Week 6 - Discrete Poisson equation \n",
    "[LTS2](https://lts2.epfl.ch)\n",
    "\n",
    "### Objectives\n",
    "Apply your knowledge about linear systems to Poisson equation resolution."
   ]
  },
  {
   "cell_type": "markdown",
   "id": "654ad4ee-c060-4bc3-b218-3a6709952750",
   "metadata": {
    "tags": []
   },
   "source": [
    "## Poisson equation\n",
    "Let $u,v \\in \\mathbb{R}^n$  represent a physical quantity $f$ and $g: \\mathbb{R} \\mapsto \\mathbb{R}$ sampled at $n$ equi-spaced locations $x_i$, i.e $u_i = f(x_i)$, $v_i = g(x_i)$. \n",
    "\n",
    "Let us assume that the underlying continuous object satisfies the Poisson equation: $\\frac{d^2}{dx^2} f (x)= g(x)$ with constraints $f(x_j) = y_j$ for a subset of $m$ locations $j \\in \\{i_1, \\ldots i_m \\}$. \n",
    "\n",
    "We will assume that **all the $i_k$ are distinct**.\n",
    "\n",
    "This equation governs a number of physical principles, e.g. gravity, fluid mechanics and electrostatics. In the latter we have $\\Delta \\varphi = -\\frac{\\rho}{\\varepsilon}$, where $\\Delta$ is the Laplacian operator $(\\frac{d^2}{dx^2} + \\frac{d^2}{dy^2} + \\frac{d^2}{dz^2})$, $\\varphi$ is the electric potential, $\\rho$ the density of electric charges and $\\varepsilon$ the electric permittivity.\n",
    "\n",
    "---"
   ]
  },
  {
   "cell_type": "markdown",
   "id": "06ac5cfa-62ef-4477-a957-e240ddeb85d8",
   "metadata": {},
   "source": [
    "#### For the sake of simplicity, we will only consider the 1D case."
   ]
  },
  {
   "cell_type": "code",
   "execution_count": 4,
   "id": "7f3cb74d-72f0-460b-a978-a47f87de8557",
   "metadata": {
    "tags": []
   },
   "outputs": [],
   "source": [
    "import numpy as np\n",
    "import matplotlib.pyplot as plt"
   ]
  },
  {
   "cell_type": "markdown",
   "id": "9fd89d0b-50df-4711-a32b-ec1026e6b122",
   "metadata": {
    "deletable": false,
    "editable": false
   },
   "source": [
    "<!-- BEGIN QUESTION -->\n",
    "\n",
    "1. Write down a matrix equation for the discrete version of $\\frac{d^2}{dx^2} f (x)= g(x)$, using the finite-difference approximation of the derivative $\\frac{d^2}{dx^2} f  = f(x_{k+1}) - 2f(x_k) +f(x_{k-1})$. For the boundary conditions we will make the assumption that $x_{-1}=x_0$ and $x_{n-1}=x_n$ (also referred to as Dirichlet boundary conditions)\n",
    "\n",
    "What is the rank of the corresponding matrix $D$ ? "
   ]
  },
  {
   "cell_type": "markdown",
   "id": "cd573242",
   "metadata": {},
   "source": [
    "_Type your answer here, replacing this text._"
   ]
  },
  {
   "cell_type": "markdown",
   "id": "a21ed0d8-4b5d-42eb-b1bf-6955938ebe2d",
   "metadata": {
    "tags": [
     "otter_assign_solution_cell"
    ]
   },
   "source": [
    "If we use zero-padding instead of the constant extension this equations satisfy $Du = v$ with \n",
    "$D=\\begin{pmatrix}\n",
    "-2 & 1 & 0  & 0& ... & 0\\\\ \n",
    "1 & -2 & 1 & 0 &... &0\\\\\n",
    "0 & 1 & -2 & 1 &... &0\\\\\n",
    "& & & ... & & \\\\\n",
    "0 & 0 & ... & 1 & -2 & 1\\\\\n",
    "0 & 0 & ... & 0 & 1 & -2\\\\\n",
    "\\end{pmatrix}$\n",
    "\n",
    "This is the laplacian matrix. \n",
    "\n",
    "$\\mbox{rank }D = n$.\n",
    "\n",
    "If we use a Dirichlet boundary condition, i.e. constant extension, we have $u_{-1}=u_0$ and $u_n = u_{n+1}$, therefore\n",
    "\n",
    "$D=\\begin{pmatrix}\n",
    "-1 & 1 & 0  & 0& ... & 0\\\\ \n",
    "1 & -2 & 1 & 0 &... &0\\\\\n",
    "0 & 1 & -2 & 1 &... &0\\\\\n",
    "& & & ... & & \\\\\n",
    "0 & 0 & ... & 1 & -2 & 1\\\\\n",
    "0 & 0 & ... & 0 & 1 & -1\\\\\n",
    "\\end{pmatrix}$\n",
    "\n",
    "In this case the rank is $n-1$ since the sum of rows/columns is 0 and if we remove one row/column they become linearly independent."
   ]
  },
  {
   "cell_type": "markdown",
   "id": "aed76fe2-8cb5-4b28-bd3b-fa0bea113a46",
   "metadata": {
    "deletable": false,
    "editable": false
   },
   "source": [
    "<!-- END QUESTION -->\n",
    "\n",
    "<Your answers here>"
   ]
  },
  {
   "cell_type": "markdown",
   "id": "cceac118-c43d-4782-9f7e-4392e5ecc451",
   "metadata": {
    "deletable": false,
    "editable": false
   },
   "source": [
    "2. Implement a function that creates the $D$ matrix (also called Laplacian). The [diag](https://numpy.org/doc/stable/reference/generated/numpy.diag.html) function in numpy might be useful."
   ]
  },
  {
   "cell_type": "code",
   "execution_count": 3,
   "id": "d41105d8-6933-4ef8-b2f0-c6ac053e1f55",
   "metadata": {
    "tags": [
     "otter_assign_solution_cell"
    ]
   },
   "outputs": [],
   "source": [
    "def lapl_matrix(N):\n",
    "    # BEGIN SOLUTION\n",
    "    O = np.ones(N-1)\n",
    "    D = -2*np.eye(N) + np.diag(O, -1) + np.diag(O, 1)\n",
    "    D[0,0] = -1\n",
    "    D[N-1, N-1] = -1\n",
    "    return D\n",
    "    # END SOLUTION"
   ]
  },
  {
   "cell_type": "code",
   "execution_count": null,
   "id": "f0bd6701",
   "metadata": {
    "deletable": false,
    "editable": false
   },
   "outputs": [],
   "source": [
    "grader.check(\"q2\")"
   ]
  },
  {
   "cell_type": "markdown",
   "id": "4cea41dc-6f12-42f2-8644-b51e4918504d",
   "metadata": {
    "deletable": false,
    "editable": false
   },
   "source": [
    "<!-- BEGIN QUESTION -->\n",
    "\n",
    "3. Write down a matrix equation for the discrete version of $f(x_j) = y_j$. What is the rank of the corresponding matrix $B$ ?"
   ]
  },
  {
   "cell_type": "markdown",
   "id": "0c939348",
   "metadata": {},
   "source": [
    "_Type your answer here, replacing this text._"
   ]
  },
  {
   "cell_type": "markdown",
   "id": "d47029a2-bd30-4da8-ae9a-f41240154377",
   "metadata": {
    "tags": [
     "otter_assign_solution_cell"
    ]
   },
   "source": [
    "This operation can be represented by a matrix $B\\in\\mathbb{R}^{n\\times m}$ where the coefficients $b_{kp} = \\delta_{ki_p}$.\n",
    "The rank of this matrix is $m$, under the assumption that all $i_k$ are distinct, since every row has a single non-zero value.\n",
    "\n",
    "Using this matrix we can rewrite the condition $f(x_j) = y_j$ as $Bu=\\begin{pmatrix}y_0\\\\ \\vdots \\\\y_{m-1}\\end{pmatrix}$"
   ]
  },
  {
   "cell_type": "markdown",
   "id": "418bc83f-7d46-41c2-8a7e-df892857320c",
   "metadata": {
    "deletable": false,
    "editable": false
   },
   "source": [
    "<!-- END QUESTION -->\n",
    "\n",
    "4. Implement a function that creates matrix $B$"
   ]
  },
  {
   "cell_type": "code",
   "execution_count": 20,
   "id": "1d294eda-7edc-42c2-9640-13bec779bd48",
   "metadata": {
    "tags": [
     "otter_assign_solution_cell"
    ]
   },
   "outputs": [],
   "source": [
    "def b_matrix(N, idx_list): # idx_list is a list of valid indices, e.g. N=5, idx_list=[1,3]\n",
    "    # BEGIN SOLUTION\n",
    "    m = len(idx_list)\n",
    "    if m<1:\n",
    "        raise ValueError(\"Supply at least one index\")\n",
    "    if not np.all(np.array(idx_list)<N):\n",
    "        raise ValueError(\"Invalid list of indices supplied\")\n",
    "    if not np.all(np.array(idx_list)>=0):\n",
    "        raise ValueError(\"Negative indices supplied\")\n",
    "    if N<1 or m >= N:\n",
    "        raise ValueError(\"Invalid dimensions\")\n",
    "        \n",
    "    B = np.zeros((m, N))\n",
    "    for p in zip(range(m), idx_list):\n",
    "        B[p[0], p[1]] = 1.\n",
    "    return B\n",
    "    # END SOLUTION"
   ]
  },
  {
   "cell_type": "code",
   "execution_count": null,
   "id": "f3049d98",
   "metadata": {
    "deletable": false,
    "editable": false
   },
   "outputs": [],
   "source": [
    "grader.check(\"q4\")"
   ]
  },
  {
   "cell_type": "markdown",
   "id": "b77f215e-e4d0-4976-9ed6-7ee210c689a6",
   "metadata": {
    "deletable": false,
    "editable": false
   },
   "source": [
    "<!-- BEGIN QUESTION -->\n",
    "\n",
    "3. Write down a matrix equation for the full problem (Hint: Consider the matrix $C=\\begin{pmatrix}D\\\\B\\end{pmatrix}$). Discuss the rank of the matrix and deduce a way to numerically solve the linear system. Implement a function that returns matrix $C$."
   ]
  },
  {
   "cell_type": "markdown",
   "id": "c4729762",
   "metadata": {},
   "source": [
    "_Type your answer here, replacing this text._"
   ]
  },
  {
   "cell_type": "markdown",
   "id": "c9ea268f-a134-43d5-a74f-7853bd8d3547",
   "metadata": {
    "tags": [
     "otter_assign_solution_cell"
    ]
   },
   "source": [
    "Let us use the matrix $C=\\begin{pmatrix}D\\\\B\\end{pmatrix}$.\n",
    "\n",
    "The following holds $Cu = z$, with $z=\\begin{pmatrix}v_0\\\\v_1\\\\...\\\\v_{n-1}\\\\y_0\\\\y_1\\\\...\\\\y_{m-1}\\end{pmatrix}$.\n",
    "\n",
    "Let us suppose there exist non zero $\\alpha_i$ s.t.\n",
    "\n",
    "$\\sum_{i=0}^{n-1} \\alpha_i C_i = 0$, where $C_i$ is the $i$-th column of $C$.\n",
    "\n",
    "Looking at the bottom part of $C$, we must have $\\alpha_i=0, i\\in\\{i_1,...,i_m\\}$. The $\\alpha_i$ are can only be non-zero when the lower part of the vector only has 0s. Given a subset of columns of $D$ will have at least one row with a single non zero coefficient  making the associated $\\alpha_i = 0$, which then propagates to the rest (since columns have disjoint support), the rank of $C$ is $n$.\n",
    "\n",
    "We can get the solution using $C^+$."
   ]
  },
  {
   "cell_type": "code",
   "execution_count": 25,
   "id": "2eaf5a8c-b83a-4f53-9c4e-6192bf4e6fa4",
   "metadata": {
    "tags": [
     "otter_assign_solution_cell"
    ]
   },
   "outputs": [],
   "source": [
    "def c_matrix(D, B):\n",
    "    # BEGIN SOLUTION\n",
    "    sd = D.shape\n",
    "    sb = B. shape\n",
    "    C = np.zeros((sd[0]+sb[0], sd[1]))\n",
    "    C[:sd[0], :] = D\n",
    "    C[sd[0]:, :] = B\n",
    "    return C\n",
    "    # END SOLUTION"
   ]
  },
  {
   "cell_type": "code",
   "execution_count": null,
   "id": "92749360",
   "metadata": {
    "deletable": false,
    "editable": false
   },
   "outputs": [],
   "source": [
    "grader.check(\"q4\")"
   ]
  },
  {
   "cell_type": "markdown",
   "id": "10a3d136-f5f3-4c1b-9c0a-ece58f891dfe",
   "metadata": {
    "deletable": false,
    "editable": false
   },
   "source": [
    "<!-- END QUESTION -->\n",
    "\n",
    "<!-- BEGIN QUESTION -->\n",
    "\n",
    "5. What explicit formula can you use to compute the pseudo-inverse of $C$ (justify)?"
   ]
  },
  {
   "cell_type": "markdown",
   "id": "544e2668",
   "metadata": {},
   "source": [
    "_Type your answer here, replacing this text._"
   ]
  },
  {
   "cell_type": "markdown",
   "id": "4daa620b-d617-49e8-9504-41151b02ab00",
   "metadata": {
    "tags": [
     "otter_assign_solution_cell"
    ]
   },
   "source": [
    "The rank of $C$ is $n$, the columns of $C$ are independent, therefore the matrix is 1-1. We can use the left pseudo inverse\n",
    "\n",
    "$C^+=(C^TC)^{-1}C^T$"
   ]
  },
  {
   "cell_type": "markdown",
   "id": "3726eb03-0c82-4aed-b179-77ff947583c3",
   "metadata": {
    "deletable": false,
    "editable": false
   },
   "source": [
    "<!-- END QUESTION -->\n",
    "\n",
    "<!-- BEGIN QUESTION -->\n",
    "\n",
    "6. Implement a function that return the solution of the problem. You can either use the formula above (you may then use the [linalg.inv](https://numpy.org/doc/stable/reference/generated/numpy.linalg.inv.html) or compute the pseudo-inverse using [linalg.pinv](https://numpy.org/doc/stable/reference/generated/numpy.linalg.pinv.html)."
   ]
  },
  {
   "cell_type": "code",
   "execution_count": 23,
   "id": "79f8c6d1-7b92-48b6-bb90-e888aaa41243",
   "metadata": {
    "tags": [
     "otter_assign_solution_cell"
    ]
   },
   "outputs": [],
   "source": [
    "# v is a vector of size N\n",
    "# u is a vector of size len(idx_list)\n",
    "def solve_poisson(N, v, idx_list, u): \n",
    "    # BEGIN SOLUTION\n",
    "    D = lapl_matrix(N)\n",
    "    B = b_matrix(N, idx_list)\n",
    "    C = c_matrix(D, B)\n",
    "    z = np.zeros(C.shape[0])\n",
    "    z[:N] = v\n",
    "    for p in zip(range(len(u)), u):\n",
    "        z[N+p[0]] = p[1]\n",
    "    Cinv = np.linalg.pinv(C)\n",
    "    #or \n",
    "    # Cinv = np.linalg.inv(C.T@C)@C.T\n",
    "    return Cinv@z\n",
    "    # END SOLUTION"
   ]
  },
  {
   "cell_type": "markdown",
   "id": "ff6184e1-e308-47d1-8b72-ab4559b48adb",
   "metadata": {
    "deletable": false,
    "editable": false
   },
   "source": [
    "<!-- END QUESTION -->\n",
    "\n",
    "<!-- BEGIN QUESTION -->\n",
    "\n",
    "7. Let us now consider the solutions of the particular case $g(x) = 0, \\forall x\\in\\mathbb{R}$. What are the analytical solutions that would solve Poisson equation ?"
   ]
  },
  {
   "cell_type": "markdown",
   "id": "883d38a9",
   "metadata": {},
   "source": [
    "_Type your answer here, replacing this text._"
   ]
  },
  {
   "cell_type": "markdown",
   "id": "fc80136a-8da3-4fa2-a9c1-c77962761e38",
   "metadata": {
    "tags": [
     "otter_assign_solution_cell"
    ]
   },
   "source": [
    "The analytical solutions are polynomial of degree 1 (s.t. their second derivative is 0), i.e. linear functions, i.e. $f(x)=ax+b$."
   ]
  },
  {
   "cell_type": "markdown",
   "id": "4a33db39-077d-4775-a55d-ae5bd7400b23",
   "metadata": {
    "deletable": false,
    "editable": false
   },
   "source": [
    "<!-- END QUESTION -->\n",
    "\n",
    "<!-- BEGIN QUESTION -->\n",
    "\n",
    "Let us verify that our implementation of the solution works with a small example. Fill the values for $u$ s.t. they belong to the solution space."
   ]
  },
  {
   "cell_type": "code",
   "execution_count": 26,
   "id": "96381701-e737-41c1-8642-fa1a5c13924c",
   "metadata": {
    "tags": [
     "otter_assign_solution_cell"
    ]
   },
   "outputs": [
    {
     "data": {
      "text/plain": [
       "[<matplotlib.lines.Line2D at 0x12c7e92a0>]"
      ]
     },
     "execution_count": 26,
     "metadata": {},
     "output_type": "execute_result"
    },
    {
     "data": {
      "image/png": "[encoded data removed]",
      "text/plain": [
       "<Figure size 640x480 with 1 Axes>"
      ]
     },
     "metadata": {},
     "output_type": "display_data"
    }
   ],
   "source": [
    "N = 50\n",
    "v = np.zeros(N)\n",
    "idx_list = [10, 20, 30, 40]\n",
    "u = [10, 20, 30, 40] # SOLUTION\n",
    "sol = solve_poisson(N, v, idx_list, u)\n",
    "plt.plot(sol) # plot the result"
   ]
  },
  {
   "cell_type": "markdown",
   "id": "04e6fc55-6c8a-4dfa-8ca0-9b45ed2f157c",
   "metadata": {
    "deletable": false,
    "editable": false
   },
   "source": [
    "<!-- END QUESTION -->\n",
    "\n",
    "<!-- BEGIN QUESTION -->\n",
    "\n",
    "9. Are the results conform to what we expected ? What happens near the boundaries ?"
   ]
  },
  {
   "cell_type": "markdown",
   "id": "c9f8227e",
   "metadata": {},
   "source": [
    "_Type your answer here, replacing this text._"
   ]
  },
  {
   "cell_type": "markdown",
   "id": "5710b3b8-a7be-4263-86a5-81d735062bad",
   "metadata": {
    "tags": [
     "otter_assign_solution_cell"
    ]
   },
   "source": [
    "We obtain a solution that is linear except near it boundaries. The aspect of the solution near the boundaries is due to the Dirichlet conditions we impose (i.e. solution should be constant outside the interval displayed). The values we had set as constraints are matched closely."
   ]
  },
  {
   "cell_type": "markdown",
   "id": "ecf46b87-accd-4043-8ab6-06835830699b",
   "metadata": {
    "deletable": false,
    "editable": false
   },
   "source": [
    "<!-- END QUESTION -->\n",
    "\n",
    "<!-- BEGIN QUESTION -->\n",
    "\n",
    "10. Let us use a step function for $f$ and try to solve the system"
   ]
  },
  {
   "cell_type": "code",
   "execution_count": 40,
   "id": "d81b4501-b2a5-4412-a266-d04ffa8dd2c7",
   "metadata": {
    "deletable": false,
    "editable": false
   },
   "outputs": [
    {
     "data": {
      "text/plain": [
       "[<matplotlib.lines.Line2D at 0x13fd605e0>]"
      ]
     },
     "execution_count": 40,
     "metadata": {},
     "output_type": "execute_result"
    },
    {
     "data": {
      "image/png": "[encoded data removed]",
      "text/plain": [
       "<Figure size 640x480 with 1 Axes>"
      ]
     },
     "metadata": {},
     "output_type": "display_data"
    }
   ],
   "source": [
    "idx_list = [10, 20, 30, 40]\n",
    "u2 = [1, 1, -1, -1]\n",
    "sol2 = solve_poisson(N, v, idx_list, u2)\n",
    "plt.scatter(idx_list, u2, marker='+', color='r')\n",
    "plt.plot(sol2)"
   ]
  },
  {
   "cell_type": "markdown",
   "id": "4918d31c-40a2-4df3-88ec-d18a80e879e7",
   "metadata": {
    "deletable": false,
    "editable": false
   },
   "source": [
    "What do you observe and what is the reason for that ? "
   ]
  },
  {
   "cell_type": "markdown",
   "id": "f48e742e",
   "metadata": {},
   "source": [
    "_Type your answer here, replacing this text._"
   ]
  },
  {
   "cell_type": "markdown",
   "id": "6f86a2fe-3fd2-45ed-871f-8850cbe198a4",
   "metadata": {
    "tags": [
     "otter_assign_solution_cell"
    ]
   },
   "source": [
    "If we deliberately choose $f$ to be outside of the solution space, we obtain a poor approximation and our constraints are not met (which is expected)."
   ]
  },
  {
   "cell_type": "markdown",
   "id": "b520b2c6-7c84-4c3e-be16-8eb866648a97",
   "metadata": {
    "deletable": false,
    "editable": false
   },
   "source": [
    "<!-- END QUESTION -->\n",
    "\n",
    "<!-- BEGIN QUESTION -->\n",
    "\n",
    "11. Let us now consider the application of the Poisson equation to electrostatic. Knowing a distribution of electric charges, we can solve it to compute the electric potential. The distribution of electric charges will be very simple, consisting of two punctual charges"
   ]
  },
  {
   "cell_type": "code",
   "execution_count": 33,
   "id": "96932aa1-74aa-4f4e-bbf5-df0f0d85c47c",
   "metadata": {
    "deletable": false,
    "editable": false
   },
   "outputs": [
    {
     "data": {
      "text/plain": [
       "[<matplotlib.lines.Line2D at 0x13fa3ca90>]"
      ]
     },
     "execution_count": 33,
     "metadata": {},
     "output_type": "execute_result"
    },
    {
     "data": {
      "image/png": "[encoded data removed]",
      "text/plain": [
       "<Figure size 640x480 with 1 Axes>"
      ]
     },
     "metadata": {},
     "output_type": "display_data"
    }
   ],
   "source": [
    "N = 50\n",
    "v3 = np.zeros(N)\n",
    "v3[10] = 1\n",
    "v3[40] = 1\n",
    "plt.plot(v3)"
   ]
  },
  {
   "cell_type": "markdown",
   "id": "42861911-53e1-4cb3-8dc7-aa617c01a7e8",
   "metadata": {
    "deletable": false,
    "editable": false
   },
   "source": [
    "- What are the analytical solutions for this problem ? (remember the discrete derivative of a step function is a Dirac function, i.e. 0 everywhere except at one point where it is 1). \n",
    "- Plot the analytical solution\n",
    "- Compute and plot the numerical solution\n",
    "- What do you observe ? "
   ]
  },
  {
   "cell_type": "markdown",
   "id": "29786b86",
   "metadata": {},
   "source": [
    "_Type your answer here, replacing this text._"
   ]
  },
  {
   "cell_type": "markdown",
   "id": "bc86b8ba-89c7-42a4-bae3-4279b8314fee",
   "metadata": {
    "tags": [
     "otter_assign_solution_cell"
    ]
   },
   "source": [
    "The analytical solution is a piecewise linear solution. Integrating once the 2-peaked will lead to picewise constant function, and piecewise linear if we integrate twice. \n",
    "\n",
    "If you use the constraints we impose for the numerical example you can compute the theoretical solution of the problem satisfying the constraints (that was not asked in the question so the above answer was sufficient). If you impose the solution to be constant between 10 and 40, it means its derivative is 0 in this interval. Below 10 the derivative is then -1 and above 40 the derivative is 1. "
   ]
  },
  {
   "cell_type": "code",
   "execution_count": 34,
   "id": "f42fc23b-c412-4791-b5b6-bef54fa3bab3",
   "metadata": {
    "tags": [
     "otter_assign_solution_cell"
    ]
   },
   "outputs": [
    {
     "data": {
      "text/plain": [
       "[<matplotlib.lines.Line2D at 0x13faa9810>]"
      ]
     },
     "execution_count": 34,
     "metadata": {},
     "output_type": "execute_result"
    },
    {
     "data": {
      "image/png": "[encoded data removed]",
      "text/plain": [
       "<Figure size 640x480 with 1 Axes>"
      ]
     },
     "metadata": {},
     "output_type": "display_data"
    }
   ],
   "source": [
    "# BEGIN SOLUTION\n",
    "d=np.zeros(50)\n",
    "d[:10]=-1\n",
    "d[40:]=1\n",
    "plt.plot(d)\n",
    "# END SOLUTION"
   ]
  },
  {
   "cell_type": "markdown",
   "id": "6aba7c71-0e5b-40de-ae37-bce24524da06",
   "metadata": {
    "tags": [
     "otter_assign_solution_cell"
    ]
   },
   "source": [
    "If we solve $-x+a = 1$ for $x=10$ and $x+b=1$ for $x = 40$, the analytical solution that satisfies the constraint is:\n",
    "- $f(x) = -x+11, x<10$\n",
    "- $f(x) = 1, 10\\le x\\le 40$\n",
    "- $f(x) = x - 39, x>40$"
   ]
  },
  {
   "cell_type": "code",
   "execution_count": 35,
   "id": "f2f9bd66-067e-4590-8088-87b7969621bb",
   "metadata": {
    "tags": [
     "otter_assign_solution_cell"
    ]
   },
   "outputs": [
    {
     "data": {
      "text/plain": [
       "[<matplotlib.lines.Line2D at 0x13fb314b0>]"
      ]
     },
     "execution_count": 35,
     "metadata": {},
     "output_type": "execute_result"
    },
    {
     "data": {
      "image/png": "[encoded data removed]",
      "text/plain": [
       "<Figure size 640x480 with 1 Axes>"
      ]
     },
     "metadata": {},
     "output_type": "display_data"
    }
   ],
   "source": [
    "# Plot analytical solution\n",
    "# BEGIN SOLUTION\n",
    "x1 = np.arange(0, 11)\n",
    "x2 = np.arange(10, 41)\n",
    "x3 = np.arange(40, 51)\n",
    "plt.plot(x1, -x1+11)\n",
    "plt.plot(x2, np.ones(x2.shape))\n",
    "plt.plot(x3, x3-39)\n",
    "# END SOLUTION"
   ]
  },
  {
   "cell_type": "code",
   "execution_count": 39,
   "id": "22eae7ab-4c91-4000-b123-7105cc4c023a",
   "metadata": {
    "tags": [
     "otter_assign_solution_cell"
    ]
   },
   "outputs": [
    {
     "data": {
      "text/plain": [
       "[<matplotlib.lines.Line2D at 0x13fcd3cd0>]"
      ]
     },
     "execution_count": 39,
     "metadata": {},
     "output_type": "execute_result"
    },
    {
     "data": {
      "image/png": "[encoded data removed]",
      "text/plain": [
       "<Figure size 640x480 with 1 Axes>"
      ]
     },
     "metadata": {},
     "output_type": "display_data"
    }
   ],
   "source": [
    "idx_list = [10, 20, 30, 40]\n",
    "u3 = [1, 1, 1, 1]\n",
    "sol3 = solve_poisson(N, v3, idx_list, u3)\n",
    "plt.scatter(idx_list, u3, marker='+', color='r')\n",
    "plt.plot(sol3)"
   ]
  },
  {
   "cell_type": "code",
   "execution_count": 37,
   "id": "b0310f39-9bbf-4518-be7d-af0e3f6724a7",
   "metadata": {
    "tags": [
     "otter_assign_solution_cell"
    ]
   },
   "outputs": [
    {
     "data": {
      "text/plain": [
       "[<matplotlib.lines.Line2D at 0x13fc020e0>]"
      ]
     },
     "execution_count": 37,
     "metadata": {},
     "output_type": "execute_result"
    },
    {
     "data": {
      "image/png": "[encoded data removed]",
      "text/plain": [
       "<Figure size 640x480 with 1 Axes>"
      ]
     },
     "metadata": {},
     "output_type": "display_data"
    }
   ],
   "source": [
    "# check the 2nd derivative of the solution computed\n",
    "plt.plot(lapl_matrix(50)@sol3[:50]) # SOLUTION"
   ]
  },
  {
   "cell_type": "markdown",
   "id": "6e71baf6-6e79-4b39-b420-0b29d47444b5",
   "metadata": {
    "tags": [
     "otter_assign_solution_cell"
    ]
   },
   "source": [
    "We can see the solution computed is acceptable as its second derivative matches the original distribution (it is not fully constant between the peaks but close enough). The Dirichlet boundary conditions are once again interfering at $x=0$ and $x=50$, and the derivative not being continuous also has an impact on the constant part."
   ]
  },
  {
   "cell_type": "markdown",
   "id": "340e5ed7",
   "metadata": {
    "deletable": false,
    "editable": false
   },
   "source": [
    "<!-- END QUESTION -->\n",
    "\n"
   ]
  },
  {
   "cell_type": "code",
   "execution_count": null,
   "id": "a223283d-c796-4875-a6fb-8a7e64e9b346",
   "metadata": {},
   "outputs": [],
   "source": []
  }
 ],
 "metadata": {
  "kernelspec": {
   "display_name": "Python 3 (ipykernel)",
   "language": "python",
   "name": "python3"
  },
  "language_info": {
   "codemirror_mode": {
    "name": "ipython",
    "version": 3
   },
   "file_extension": ".py",
   "mimetype": "text/x-python",
   "name": "python",
   "nbconvert_exporter": "python",
   "pygments_lexer": "ipython3",
   "version": "3.10.13"
  },
  "otter": {
   "OK_FORMAT": true,
   "tests": {
    "q2": {
     "name": "q2",
     "points": null,
     "suites": [
      {
       "cases": [
        {
         "code": ">>> def testD(N):\n...     D = lapl_matrix(N)\n...     np.testing.assert_array_almost_equal(np.sum(D, axis=1), np.zeros(N))\n...     np.testing.assert_array_almost_equal(np.diagonal(D, 1), np.ones(N - 1))\n...     np.testing.assert_array_almost_equal(np.diagonal(D, -1), np.ones(N - 1))\n...     v = -2 * np.ones(N)\n...     v[0] = -1\n...     v[N - 1] = -1\n...     np.testing.assert_array_almost_equal(np.diagonal(D), v)\n>>> testD(5)\n>>> testD(12)\n",
         "failure_message": "Check your implementation",
         "hidden": false,
         "locked": false,
         "success_message": "Good, results seem correct"
        }
       ],
       "scored": true,
       "setup": "",
       "teardown": "",
       "type": "doctest"
      }
     ]
    },
    "q4": {
     "name": "q4",
     "points": null,
     "suites": [
      {
       "cases": [
        {
         "code": ">>> B = b_matrix(5, [1, 3])\n>>> Btest = np.array([[0, 1, 0, 0, 0], [0, 0, 0, 1, 0]])\n>>> np.testing.assert_array_almost_equal(B, Btest)\n",
         "failure_message": "Check your implementation",
         "hidden": false,
         "locked": false,
         "success_message": "Good, results seem correct"
        }
       ],
       "scored": true,
       "setup": "",
       "teardown": "",
       "type": "doctest"
      }
     ]
    }
   }
  }
 },
 "nbformat": 4,
 "nbformat_minor": 5
}
